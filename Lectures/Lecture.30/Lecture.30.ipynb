{
 "cells": [
  {
   "cell_type": "markdown",
   "metadata": {},
   "source": [
    "# Lecture 30\n",
    "\n",
    "From previous lecture:"
   ]
  },
  {
   "cell_type": "code",
   "execution_count": 1,
   "metadata": {},
   "outputs": [],
   "source": [
    "# Import libraries we will use\n",
    "import pandas as pd\n",
    "import numpy as np\n",
    "%matplotlib inline\n",
    "import matplotlib.pyplot as plt\n",
    "from collections import OrderedDict"
   ]
  },
  {
   "cell_type": "markdown",
   "metadata": {},
   "source": [
    "We have an updated CSV file (with Lab 4 grades)... lets load up this new file. First drop the first line as we did last time:"
   ]
  },
  {
   "cell_type": "code",
   "execution_count": 2,
   "metadata": {},
   "outputs": [
    {
     "name": "stdout",
     "output_type": "stream",
     "text": [
      "     230 Data-1401-Grades.csv\r\n"
     ]
    }
   ],
   "source": [
    "!wc -l Data-1401-Grades.csv"
   ]
  },
  {
   "cell_type": "code",
   "execution_count": 3,
   "metadata": {},
   "outputs": [
    {
     "name": "stdout",
     "output_type": "stream",
     "text": [
      "Lab 1,Lab 2,Lab 3,Lab 4,Exam 1,Lab 5,,Lab 7,Exam 2\r",
      "\r\n",
      ",0,0,,0,0,0,0,0\r",
      "\r\n",
      "no solution,no solution,-did not submit the Lab,,did not submit the exam,,,,\r",
      "\r\n",
      "100,96,46,52.5,68-sent,,,,\r",
      "\r\n",
      "Completed the lab,\"ex4- attempted,wrong solution -2\r\n",
      "ex8 -wrong solution(sequence not correct) -2\",\"ex1 - Nameerror get_size() is not defined(-2)\r\n",
      "ex2 - returns -1 for all conditions, does not test for all conditions.(-3)\r\n",
      "ex3 - does not construct board(-5)\r\n",
      "ex4 - does not construct the board (-5)\r\n",
      "ex5 - does not construct the board (-5)\r\n",
      "ex6 - does not construct the board (-5)\r\n",
      "ex7 - no construction of board (-5)\r\n",
      "ex8-not attempted\r\n",
      "ex9-not attempted\r\n",
      "ex10 - does not create board for 5*5 (-4)\r\n",
      "ex11 - not attempted \",\"ex1 - cannot not use numpy function(-4)\r\n",
      "ex2a - mean function is wrong, values  calculated are wrong(-5)\r\n",
      "ex2b - variance function is wrong, values calculated are wrong(-5)\r\n",
      "ex3 - cannot use numpy function (-5)\r\n",
      "ex4 - function does not draw histogram, goes into infinite loop (-6)\r\n",
      "ex5 - should return a list of indices greater than 0.5(-2)\r\n",
      "ex6 - does not return length of F1, F2, (-2)\r\n",
      "ex7 - not attempted (lambda part) -7.5\r\n",
      "ex7 -  cannot use numpy function (-4)\r\n",
      "ex8 - UnboundlocalError (-2)\r\n",
      "ex9 - cannot use inbuilt functions (-5)\",\"q1c - does not return the list instead returns the range(-5)\r\n",
      "q2 - output is wrong, output should had been [4, 5, 60], \r\n",
      "[8, 10, 120],[12, 15, 180] (-5)\r\n",
      "q3a - should be in a list format (-2)\r\n",
      "q3b - Just generated the histogram.output does not have x90 value.(-10)\r\n",
      "q4a - should return the highest card instead of True for flush(), Straight(), straight_flush()(-6)\r\n",
      "q4b - three_of_a_kind(), pair() returns None even for the condition being True(-4)\",,,,\r",
      "\r\n",
      "100,100,90,56.5,88-sent,,,,\r",
      "\r\n",
      "Completed the lab,\"Completed the whole lab\r\n",
      "\",\"ex10 - not attempted (-10)\r\n",
      "ex11 - not attempted\",\"ex2a - mean value calculated is wrong, used variable name already used above(-5)\r\n",
      "ex2b - variance calculated value is wrong, due to mean being wrong (-3)\r\n",
      "ex3 - cannot use numpy functions , bin edges not updated correctly(-6)\r\n",
      "ex7 - not attempted lambda (-7.5)\r\n",
      "ex7 - NameError: name 'test_func' is not defined (-2)\r\n",
      "ex8-not attempted(-10)\r\n",
      "ex9- not attempted(-10)\",\"note - try to use better variable names\r\n",
      "q3b - does not calculate x90 (-8)\r\n",
      "q4a - flush() is working perfectly,straight() & straight_flush() does not work with condition True (-4)\",,,,\r",
      "\r\n",
      "93,100,24,53,96-sent,,,,\r",
      "\r\n",
      "\"ex4 - attempted, wrong answer(-2)\r\n",
      "ex5c - not attempted(-5)\",Completed the whole lab,\"ex2 - returns 1 for winner_2, returns 1 for no winner instead of -1(-2)\r\n",
      "ex3 -  does not construct board for other cases (-4)\r\n",
      "ex4-not attempted\r\n",
      "ex5- not attempted\r\n",
      "ex6-not attempted\r\n",
      "ex7-not attempted\r\n",
      "ex8-not attempted\r\n",
      "ex9-not attempted\r\n",
      "ex10-not attempted\r\n",
      "ex11 - not attempted\",\"ex2a - mean value calculated is wrong (-5)\r\n",
      "ex2b - variance value calculated is wrong (-3)\r\n",
      "ex3 - gives IndexError on running the code (-2)\r\n",
      "ex4 -not attempted (-10)\r\n",
      "ex7 - does not use sum and map (-2)\r\n",
      "ex7 - does not return output (-5)\r\n",
      "ex8 - does not generate anything (-10)\r\n",
      "ex9 - not attempted (-10)\",\"note- try not to use names which are built-in functions in python(eg- min)\r\n",
      "q3b- does not calculate x90, made integral funciton but never ran it. (-4)\",,,,\r",
      "\r\n",
      "0,81,0,0,43-sent,,,,\r",
      "\r\n",
      "no solution,\"ex2-attempted(empty list) -2\r\n",
      "ex3 - no solution -5\r\n",
      "ex4 -not in proper format(list) -2\r\n",
      "ex7 - no solution -5\r\n",
      "ex10 - no solution -5\",- did not submit the lab,-did not submit the lab,\"q1b - returns the index 0 instead of 23 as mentioned in the question (-3)\r\n",
      "q2 - no attempt (-25)\r\n",
      "q3a,q3b - no attempt (-25)\r\n",
      "q4a - straight(), straight_flush() should return None instead of False,return highest card instead of True for straight() (-4)\",,,,\r",
      "\r\n",
      "95,100,105,88,96-sent,,,,\r",
      "\r\n",
      "-ex5c missing(-5)                  ,Completed the whole lab,\"ex5 - does not draw board (-5)\r\n",
      "ex11 - +10\",\"ex7 - does not print the results using lambda, does not use sum and map(-4)\r\n",
      "ex8 - histogram data missing (-4)\r\n",
      "ex9 - answer generated not correct  (-4)\",\"q4b - Implementation correct , gives NameError 'h' not defined while running the code\r\n",
      "(-4)\",,,,\r",
      "\r\n",
      "100,98,87,98,89-sent,,,,\r",
      "\r\n",
      "completed the lab,\"ex10 - attempted, solution wrong(nameerror-guess not defined) -2\",\"ex2 - flips for condition 'also_no_winner' returns 2 instead of 0(-2)\r\n",
      "ex3 - does not construct board as given in ques (-4)\r\n",
      "ex4 - creates 3 * 2 board for \"\"also_no_winner\"\" instead of 3*3 (-3)\r\n",
      "ex5 - does not create row C for \"\"also_no_winner\"\" (-2)\r\n",
      "ex8 - Nameerror \"\"move_good\"\" (-2)\r\n",
      "ex11 - not attempted\",\"ex7 - does not use sum, map (-2)\",\"q3a - did not print the result(-2)\r\n",
      "q3b- solution incomplete. Output close but not correct. (-5)\r\n",
      "q4a - Gives the second highest value on straight() (-2)\r\n",
      "q4b - Implementation does not seem right, wrong output for three_of_a_kind,pair() (-2)\",,,,\r",
      "\r\n",
      "95,98,50,56.5,52,,,,\r",
      "\r\n",
      "-ex5c missing(-5),\"ex8 - wrong solution, sequence should be 1,1,.. -2\r\n",
      "\",\"ex1 - works for only 1 condition, does not return the expected output(-6)\r\n",
      "ex4- does not construct the board fully (-3)\r\n",
      "ex5 - Typeerror (-5)\r\n",
      "ex7-not attempted\r\n",
      "ex8-not attempted\r\n",
      "ex9-not attempted\r\n",
      "ex10-not attempted\r\n",
      "ex11 - not attempted\",\"ex2b - variance value calculated is wrong(-5)\r\n",
      "ex4 - not attempted (-10)\r\n",
      "ex5 -  find the indices of entries greater than 0.5 and not 5 (-5)\r\n",
      "ex7 - histogram not drawn (-3.5)\r\n",
      "ex8 - incomplete , does not return anything (-10)\r\n",
      "ex9 - not attempted (-10)\r\n",
      "\",\"q1a,q1b,q1c - incomplete function. Does not have any function in all three parts of question. (-25)\r\n",
      "q2 - wrong logic, solution (-8)\r\n",
      "q3b- solution incomplete, does not calculate the value of x90 (-6)\r\n",
      "q4a - flush() returns letter instead of highest card, straight() returns True instead of highest card, straight_flush() returns letter instead of highest card (-5)\r\n",
      "q4b - does not work for pair(), returns None for True condition (-4)\",,,,\r",
      "\r\n",
      "95,96,98,94.5,100-sent,,,,\r",
      "\r\n",
      "-ex5c missing(-5),\"ex8 - should start from 1 as given in the question -2\r\n",
      "ex10 - generates an invalid response on entering a number -2\",\"ex5 - does not return True or False(-2)\r\n",
      "ex11 - not attempted\",\"ex7 - does not use sum and map (-2)\r\n",
      "ex7 - does not draw histogram (-3.5)\",excellent,,,,\r",
      "\r\n",
      "0,78,37,47,67,,,,\r",
      "\r\n",
      "no solution,\"ex1 - 1 function(odd) missing -2\r\n",
      "ex2 - no solution -5\r\n",
      "ex3 - wrong solution -2\r\n",
      "ex4 - should be a list -2\r\n",
      "ex5 - return a list -2\r\n",
      "ex7 - no solution -5\r\n",
      "ex8 - attempted, sequence missing -2\r\n",
      "ex9 - nameerror(string not defined) -2\",\"ex1 - Nameerror \"\"game_board\"\" not defined (-2)\r\n",
      "ex2 - does not work for most of the test cases (-4)\r\n",
      "ex3 - does not construct board correctly(-3)\r\n",
      "ex4-not attempted\r\n",
      "ex5-not attempted\r\n",
      "ex6-not attempted\r\n",
      "ex7-not attempted\r\n",
      "ex8-not attempted\r\n",
      "ex9 - does not use the notation A2, C1,etc, or constructs the board(-4)\",\"ex2a - hard coded the list (-2)\r\n",
      "ex2b - hard coded the list (-2)\r\n",
      "ex3 - should not use numpy, matplotlib (-4)\r\n",
      "ex4 - should not use numpy (-4)\r\n",
      "ex5 - function gives syntax error (-2)\r\n",
      "ex6 - function incomplete,no functions for greater than, less than,etc. Nameerror (-4)\r\n",
      "ex7-ex9 - not attempted(--35)\",\"-Late submission -10\r\n",
      "q1b - Nameerror  (-3)\r\n",
      "q3b - NameError: name 'data' is not defined, does not calculate the value of x90 (-8)\r\n",
      "q4a - flush() gives error instead of returning the highest value card, straight() returns False instead of None, straight_flush() gives nameerror \"\"stright\"\" not defined(-6)\r\n",
      "q4b - Nameerror in both the functions pair and three_of_kind, values not defined correctly, variables not initiated properly(-6)\",,,,\r",
      "\r\n",
      "0,76,,,0,,,,\r",
      "\r\n",
      "no solution,\"ex1 - syntax error -2\r\n",
      "ex3 - wrong solution -2\r\n",
      "ex4 - wrong solution -2\r\n",
      "ex5 - wrong solution -2\r\n",
      "ex6 - syntax error -2\r\n",
      "ex7 - no solution -5\r\n",
      "ex8 - attempted no solution -2\r\n",
      "ex9 - Typerror -2\r\n",
      "ex10 - no solution -5\r\n",
      "\",,,-did not submit the exam,,,,\r",
      "\r\n",
      "95,89,0,0,66-sent,,,,\r",
      "\r\n",
      "ex 5c missing(-5),\"ex7 - condition not working on rock and scissors -2\r\n",
      "ex8-  sequence should have started from 1 as given in the question. -2\r\n",
      "ex9 - no solution -5\r\n",
      "ex10 - wrong solution, user should have been given the input if number is higher or lower -2\",-did not submit the Lab,-did not submit the Lab,\"q2- should not be using numpy(built in functions) -5\r\n",
      "q3b- no value of x90, made q6 function but never used. (-4)\r\n",
      "q4a - not attempted(-12.5)\r\n",
      "q4b - not attempted(-12.5)\",,,,\r",
      "\r\n",
      "98,94,35,54,96-sent,,,,\r",
      "\r\n",
      "ex 4 attempted but not correct(-2),\"ex3 - wrong solution(attempted) -2\r\n",
      "ex4 - wrong solution(not generating correct list) -2\r\n",
      "ex7 - NameError: name 'py1' is not defined -2\",\"ex2 - does not return  -1, 0, 1, or 2 , returns None (-5)\r\n",
      "ex4 - Syntax Error (-2)\r\n",
      "ex4 - NameError: name 'insertLetter' is not defined(-2)\r\n",
      "ex5 - Incomplete function (-6)\r\n",
      "ex6- not attempted\r\n",
      "ex7- not attempted\r\n",
      "ex8- not attempted\r\n",
      "ex9- not attempted\r\n",
      "ex10- not attempted\r\n",
      "ex11 - not attempted\",\"ex4 - does not create create a text-based graph (-6)\r\n",
      "ex5 - does not return all the index of number (-4)\r\n",
      "ex6 - Typeerror, does not test functions  (-5)\r\n",
      "ex7 - not attempted lambda (-7.5)\r\n",
      "ex7 - histogram not generated (-3.5)\r\n",
      "ex8 - not attempted(-10)\r\n",
      "ex9 - not attempted(-10) \",\"q2- Right logic but not commented well, comment out the lines properly (-2)\r\n",
      "q4b - three_of_kind gives None for True condition (-2)\",,,,\r",
      "\r\n",
      "93,77,23,63,64-sent,,,,\r",
      "\r\n",
      "\"ex3 attempted no solution, 5c missing(-7)\",\"ex3 - should have taken list of numbers as in q2  -2\r\n",
      "ex4 - attempt, wrong solution(should include 1 as divisor) -2\r\n",
      "ex6 - should have given True for the palindrome string -2\r\n",
      "ex7 - no solution -5\r\n",
      "ex8 - sequence should have started from 1 as given in the question -2\r\n",
      "ex9 - no solution -5\r\n",
      "ex10 - no solution -5\r\n",
      "\",\"ex2 - returns 1 instead of 0 for \"\"no_winner\"\" (-2)\r\n",
      "ex3 - gives Index Error, function incomplete (-5)\r\n",
      "ex4-not attempted\r\n",
      "ex5-not attempted\r\n",
      "ex6-not attempted\r\n",
      "ex7-not attempted\r\n",
      "ex8-not attempted\r\n",
      "ex9- not attempted\r\n",
      "ex10-not attempted\r\n",
      "ex11 - not attempted\",\"ex4 -  text-based graph generated is not correct (-4)\r\n",
      "ex5 - should return list of indices (-4)\r\n",
      "ex6 - Incomplete, functions does not test for cases(-4)\r\n",
      "ex7 -not attempted(-15)\r\n",
      "ex8- not attempted(-10)\r\n",
      "ex9- not attempted(-10)\",\"q1a - You had to return just the string \"\"Alabama\"\" and not the whole list (-2)\r\n",
      "q3b - not attempted(-12.5)\r\n",
      "q4a,q4b - only flush function attempted(-7)\r\n",
      "q4b - not attempted (-12.5)\",,,,\r",
      "\r\n",
      "100,96,88,93,64-sent,,,,\r",
      "\r\n",
      "completed,\"ex8 - Sequence should have started from 1 as given in the question -2\r\n",
      "ex10 - invalid response -2\r\n",
      "ex8,ex5,ex7,ex10 - solution exactly same as Will Anderson(git commit 13days ago)\",\"ex5 - does not return True or False(-2)\r\n",
      "ex9 - game not implemented (-5)\r\n",
      "ex10 - game not implemented, only board created (-5)\r\n",
      "solution matches with another student Will Anderson\",\"ex4 -  does not print text based graph, used another function instead of draw_histogram() (-5)\r\n",
      "ex7 - does not use sum and map (-2)\r\n",
      "\r\n",
      "SOLUTION MATCHES WITH OTHER STUDENT Will Anderson\",\"q1a - return just the string, not in list format(-2)\r\n",
      "q1b - throwing valueerror (-3)\r\n",
      "q2 - its  two 1-dimensional list multiplication and what you did is multiplication of 2d matrix (-15)\r\n",
      "q3b- not correct, gives NameError(-6)\r\n",
      "q4a - string in hand is not working for any of the functions (-6)\r\n",
      "q4b -  No output, giving Typeerror(-4)\",,,,\r",
      "\r\n",
      "95,94,60,93,98-sent,,,,\r",
      "\r\n",
      "ex 5c missing(-5),\"ex3 - incomplete function -3\r\n",
      "ex10 - incomplete function -3\",\"ex7- not attempted\r\n",
      "ex8- not attempted\r\n",
      "ex9- not attempted\r\n",
      "ex10- not attempted\r\n",
      "ex11 - not attempted\",\"ex5 - does not return indices of values less than 0.5<num<0 (-3)\r\n",
      "ex7 - does not use sum and map (-2)\r\n",
      "ex9 -  NameError: name 'find_max' (-2)\",q4b - pair() is not working properly for few test cases. (-2),,,,"
     ]
    }
   ],
   "source": [
    "!tail -230 Data-1401-Grades.csv"
   ]
  },
  {
   "cell_type": "code",
   "execution_count": 4,
   "metadata": {},
   "outputs": [],
   "source": [
    "!tail -230 Data-1401-Grades.csv > Data-1401-Grades-Fixed.csv"
   ]
  },
  {
   "cell_type": "code",
   "execution_count": 5,
   "metadata": {},
   "outputs": [],
   "source": [
    "# Read Data into a Pandas DataFrame\n",
    "df = pd.read_csv(\"Data-1401-Grades-Fixed.csv\")"
   ]
  },
  {
   "cell_type": "code",
   "execution_count": 10,
   "metadata": {},
   "outputs": [],
   "source": [
    "# Create mask to keep only lines with numbers\n",
    "mask=list()\n",
    "for i in range(16):\n",
    "    mask.append(True)\n",
    "    mask.append(False)"
   ]
  },
  {
   "cell_type": "code",
   "execution_count": 11,
   "metadata": {},
   "outputs": [],
   "source": [
    "# Apply mask and remove NaNs\n",
    "df_0=df[mask].fillna(0)"
   ]
  },
  {
   "cell_type": "code",
   "execution_count": 13,
   "metadata": {},
   "outputs": [],
   "source": [
    "# Fix Exam 1 entries\n",
    "df_0[\"Exam 1 Fixed\"] = list(map(lambda x: int(x.split(\"-\")[0]) ,df_0[\"Exam 1\"].tolist()))"
   ]
  },
  {
   "cell_type": "code",
   "execution_count": 14,
   "metadata": {
    "scrolled": true
   },
   "outputs": [
    {
     "data": {
      "text/html": [
       "<div>\n",
       "<style scoped>\n",
       "    .dataframe tbody tr th:only-of-type {\n",
       "        vertical-align: middle;\n",
       "    }\n",
       "\n",
       "    .dataframe tbody tr th {\n",
       "        vertical-align: top;\n",
       "    }\n",
       "\n",
       "    .dataframe thead th {\n",
       "        text-align: right;\n",
       "    }\n",
       "</style>\n",
       "<table border=\"1\" class=\"dataframe\">\n",
       "  <thead>\n",
       "    <tr style=\"text-align: right;\">\n",
       "      <th></th>\n",
       "      <th>Lab 1</th>\n",
       "      <th>Lab 2</th>\n",
       "      <th>Lab 3</th>\n",
       "      <th>Lab 4</th>\n",
       "      <th>Exam 1</th>\n",
       "      <th>Lab 5</th>\n",
       "      <th>Unnamed: 6</th>\n",
       "      <th>Lab 7</th>\n",
       "      <th>Exam 2</th>\n",
       "      <th>Exam 1 Fixed</th>\n",
       "    </tr>\n",
       "  </thead>\n",
       "  <tbody>\n",
       "    <tr>\n",
       "      <th>0</th>\n",
       "      <td>0</td>\n",
       "      <td>0</td>\n",
       "      <td>0</td>\n",
       "      <td>0</td>\n",
       "      <td>0</td>\n",
       "      <td>0.0</td>\n",
       "      <td>0.0</td>\n",
       "      <td>0.0</td>\n",
       "      <td>0.0</td>\n",
       "      <td>0</td>\n",
       "    </tr>\n",
       "    <tr>\n",
       "      <th>2</th>\n",
       "      <td>100</td>\n",
       "      <td>96</td>\n",
       "      <td>46</td>\n",
       "      <td>52.5</td>\n",
       "      <td>68-sent</td>\n",
       "      <td>0.0</td>\n",
       "      <td>0.0</td>\n",
       "      <td>0.0</td>\n",
       "      <td>0.0</td>\n",
       "      <td>68</td>\n",
       "    </tr>\n",
       "    <tr>\n",
       "      <th>4</th>\n",
       "      <td>100</td>\n",
       "      <td>100</td>\n",
       "      <td>90</td>\n",
       "      <td>56.5</td>\n",
       "      <td>88-sent</td>\n",
       "      <td>0.0</td>\n",
       "      <td>0.0</td>\n",
       "      <td>0.0</td>\n",
       "      <td>0.0</td>\n",
       "      <td>88</td>\n",
       "    </tr>\n",
       "    <tr>\n",
       "      <th>6</th>\n",
       "      <td>93</td>\n",
       "      <td>100</td>\n",
       "      <td>24</td>\n",
       "      <td>53</td>\n",
       "      <td>96-sent</td>\n",
       "      <td>0.0</td>\n",
       "      <td>0.0</td>\n",
       "      <td>0.0</td>\n",
       "      <td>0.0</td>\n",
       "      <td>96</td>\n",
       "    </tr>\n",
       "    <tr>\n",
       "      <th>8</th>\n",
       "      <td>0</td>\n",
       "      <td>81</td>\n",
       "      <td>0</td>\n",
       "      <td>0</td>\n",
       "      <td>43-sent</td>\n",
       "      <td>0.0</td>\n",
       "      <td>0.0</td>\n",
       "      <td>0.0</td>\n",
       "      <td>0.0</td>\n",
       "      <td>43</td>\n",
       "    </tr>\n",
       "    <tr>\n",
       "      <th>10</th>\n",
       "      <td>95</td>\n",
       "      <td>100</td>\n",
       "      <td>105</td>\n",
       "      <td>88</td>\n",
       "      <td>96-sent</td>\n",
       "      <td>0.0</td>\n",
       "      <td>0.0</td>\n",
       "      <td>0.0</td>\n",
       "      <td>0.0</td>\n",
       "      <td>96</td>\n",
       "    </tr>\n",
       "    <tr>\n",
       "      <th>12</th>\n",
       "      <td>100</td>\n",
       "      <td>98</td>\n",
       "      <td>87</td>\n",
       "      <td>98</td>\n",
       "      <td>89-sent</td>\n",
       "      <td>0.0</td>\n",
       "      <td>0.0</td>\n",
       "      <td>0.0</td>\n",
       "      <td>0.0</td>\n",
       "      <td>89</td>\n",
       "    </tr>\n",
       "    <tr>\n",
       "      <th>14</th>\n",
       "      <td>95</td>\n",
       "      <td>98</td>\n",
       "      <td>50</td>\n",
       "      <td>56.5</td>\n",
       "      <td>52</td>\n",
       "      <td>0.0</td>\n",
       "      <td>0.0</td>\n",
       "      <td>0.0</td>\n",
       "      <td>0.0</td>\n",
       "      <td>52</td>\n",
       "    </tr>\n",
       "    <tr>\n",
       "      <th>16</th>\n",
       "      <td>95</td>\n",
       "      <td>96</td>\n",
       "      <td>98</td>\n",
       "      <td>94.5</td>\n",
       "      <td>100-sent</td>\n",
       "      <td>0.0</td>\n",
       "      <td>0.0</td>\n",
       "      <td>0.0</td>\n",
       "      <td>0.0</td>\n",
       "      <td>100</td>\n",
       "    </tr>\n",
       "    <tr>\n",
       "      <th>18</th>\n",
       "      <td>0</td>\n",
       "      <td>78</td>\n",
       "      <td>37</td>\n",
       "      <td>47</td>\n",
       "      <td>67</td>\n",
       "      <td>0.0</td>\n",
       "      <td>0.0</td>\n",
       "      <td>0.0</td>\n",
       "      <td>0.0</td>\n",
       "      <td>67</td>\n",
       "    </tr>\n",
       "    <tr>\n",
       "      <th>20</th>\n",
       "      <td>0</td>\n",
       "      <td>76</td>\n",
       "      <td>0</td>\n",
       "      <td>0</td>\n",
       "      <td>0</td>\n",
       "      <td>0.0</td>\n",
       "      <td>0.0</td>\n",
       "      <td>0.0</td>\n",
       "      <td>0.0</td>\n",
       "      <td>0</td>\n",
       "    </tr>\n",
       "    <tr>\n",
       "      <th>22</th>\n",
       "      <td>95</td>\n",
       "      <td>89</td>\n",
       "      <td>0</td>\n",
       "      <td>0</td>\n",
       "      <td>66-sent</td>\n",
       "      <td>0.0</td>\n",
       "      <td>0.0</td>\n",
       "      <td>0.0</td>\n",
       "      <td>0.0</td>\n",
       "      <td>66</td>\n",
       "    </tr>\n",
       "    <tr>\n",
       "      <th>24</th>\n",
       "      <td>98</td>\n",
       "      <td>94</td>\n",
       "      <td>35</td>\n",
       "      <td>54</td>\n",
       "      <td>96-sent</td>\n",
       "      <td>0.0</td>\n",
       "      <td>0.0</td>\n",
       "      <td>0.0</td>\n",
       "      <td>0.0</td>\n",
       "      <td>96</td>\n",
       "    </tr>\n",
       "    <tr>\n",
       "      <th>26</th>\n",
       "      <td>93</td>\n",
       "      <td>77</td>\n",
       "      <td>23</td>\n",
       "      <td>63</td>\n",
       "      <td>64-sent</td>\n",
       "      <td>0.0</td>\n",
       "      <td>0.0</td>\n",
       "      <td>0.0</td>\n",
       "      <td>0.0</td>\n",
       "      <td>64</td>\n",
       "    </tr>\n",
       "    <tr>\n",
       "      <th>28</th>\n",
       "      <td>100</td>\n",
       "      <td>96</td>\n",
       "      <td>88</td>\n",
       "      <td>93</td>\n",
       "      <td>64-sent</td>\n",
       "      <td>0.0</td>\n",
       "      <td>0.0</td>\n",
       "      <td>0.0</td>\n",
       "      <td>0.0</td>\n",
       "      <td>64</td>\n",
       "    </tr>\n",
       "    <tr>\n",
       "      <th>30</th>\n",
       "      <td>95</td>\n",
       "      <td>94</td>\n",
       "      <td>60</td>\n",
       "      <td>93</td>\n",
       "      <td>98-sent</td>\n",
       "      <td>0.0</td>\n",
       "      <td>0.0</td>\n",
       "      <td>0.0</td>\n",
       "      <td>0.0</td>\n",
       "      <td>98</td>\n",
       "    </tr>\n",
       "  </tbody>\n",
       "</table>\n",
       "</div>"
      ],
      "text/plain": [
       "   Lab 1 Lab 2 Lab 3 Lab 4    Exam 1  Lab 5  Unnamed: 6  Lab 7  Exam 2  \\\n",
       "0      0     0     0     0         0    0.0         0.0    0.0     0.0   \n",
       "2    100    96    46  52.5   68-sent    0.0         0.0    0.0     0.0   \n",
       "4    100   100    90  56.5   88-sent    0.0         0.0    0.0     0.0   \n",
       "6     93   100    24    53   96-sent    0.0         0.0    0.0     0.0   \n",
       "8      0    81     0     0   43-sent    0.0         0.0    0.0     0.0   \n",
       "10    95   100   105    88   96-sent    0.0         0.0    0.0     0.0   \n",
       "12   100    98    87    98   89-sent    0.0         0.0    0.0     0.0   \n",
       "14    95    98    50  56.5        52    0.0         0.0    0.0     0.0   \n",
       "16    95    96    98  94.5  100-sent    0.0         0.0    0.0     0.0   \n",
       "18     0    78    37    47        67    0.0         0.0    0.0     0.0   \n",
       "20     0    76     0     0         0    0.0         0.0    0.0     0.0   \n",
       "22    95    89     0     0   66-sent    0.0         0.0    0.0     0.0   \n",
       "24    98    94    35    54   96-sent    0.0         0.0    0.0     0.0   \n",
       "26    93    77    23    63   64-sent    0.0         0.0    0.0     0.0   \n",
       "28   100    96    88    93   64-sent    0.0         0.0    0.0     0.0   \n",
       "30    95    94    60    93   98-sent    0.0         0.0    0.0     0.0   \n",
       "\n",
       "    Exam 1 Fixed  \n",
       "0              0  \n",
       "2             68  \n",
       "4             88  \n",
       "6             96  \n",
       "8             43  \n",
       "10            96  \n",
       "12            89  \n",
       "14            52  \n",
       "16           100  \n",
       "18            67  \n",
       "20             0  \n",
       "22            66  \n",
       "24            96  \n",
       "26            64  \n",
       "28            64  \n",
       "30            98  "
      ]
     },
     "execution_count": 14,
     "metadata": {},
     "output_type": "execute_result"
    }
   ],
   "source": [
    "df_0"
   ]
  },
  {
   "cell_type": "code",
   "execution_count": 17,
   "metadata": {},
   "outputs": [],
   "source": [
    "grade_def = [(\"A+\",100),\n",
    "             (\"A\",90),\n",
    "             (\"B\",80), \n",
    "             (\"C\",70),\n",
    "             (\"D\",60),\n",
    "             (\"F\",0) ]\n",
    "\n",
    "grades=OrderedDict(grade_def[::-1])\n",
    "\n",
    "grades_inverse=OrderedDict(zip(list(grades.values())[::-1],\n",
    "                               list(grades.keys())[::-1]))"
   ]
  },
  {
   "cell_type": "code",
   "execution_count": 18,
   "metadata": {},
   "outputs": [],
   "source": [
    "def grade_summary(df_0,grades,min_grade=0.):\n",
    "    df=df_0[df_0>min_grade]\n",
    "    N_total=sum(df>min_grade)\n",
    "    hist,bins=np.histogram(df,bins=list(grades.values()))\n",
    "\n",
    "    print(\"Mean:\",np.mean(df))\n",
    "    print(\"Std:\",np.std(df))\n",
    "    \n",
    "    for grade_letter,bin_count in zip(grades.keys(),hist):\n",
    "        print(grade_letter+\": \"+str(bin_count),\n",
    "              float(bin_count/N_total) )\n",
    "    "
   ]
  },
  {
   "cell_type": "code",
   "execution_count": 21,
   "metadata": {},
   "outputs": [
    {
     "name": "stdout",
     "output_type": "stream",
     "text": [
      "Mean: 82.66666666666667\n",
      "Std: 14.642024753731599\n",
      "F: 0 0.0\n",
      "D: 5 0.4166666666666667\n",
      "C: 0 0.0\n",
      "B: 2 0.16666666666666666\n",
      "A: 5 0.4166666666666667\n"
     ]
    }
   ],
   "source": [
    "grade_summary(df_0[\"Exam 1 Fixed\"],grades,55)"
   ]
  },
  {
   "cell_type": "code",
   "execution_count": 20,
   "metadata": {},
   "outputs": [],
   "source": [
    "def compute_curve(df_0, min_grade=None):\n",
    "\n",
    "    if min_grade:\n",
    "        pass\n",
    "    else:\n",
    "        min_grade=np.max(df_0)/2.\n",
    "    \n",
    "    print(\"Min grade:\",min_grade)\n",
    "\n",
    "    df=df_0[df_0>min_grade]\n",
    "    N_total=sum(df_0>min_grade)\n",
    "    \n",
    "    print(\"N Total (post cut):\",N_total)\n",
    "    print(\"N Total (pre cut):\",df_0.shape)\n",
    "    \n",
    "    mean=np.mean(df)\n",
    "    std=np.std(df)\n",
    "\n",
    "    print(\"Mean:\",mean)\n",
    "    print(\"Std:\",std)\n",
    "    \n",
    "    grade_def=[(\"A+\",np.max(df)),\n",
    "               (\"A\", min(np.max(df),mean+std)),\n",
    "               (\"B\",mean), \n",
    "               (\"C\",mean-std),\n",
    "               (\"D\",mean-2*std),\n",
    "               (\"F\",0.)]\n",
    "    \n",
    "    grade_def.reverse()\n",
    "    grades=OrderedDict( grade_def )\n",
    "    \n",
    "    \n",
    "    hist,bins=np.histogram(df,bins=list(grades.values()))\n",
    "    \n",
    "    _=plt.hist(df)\n",
    "    plt.show()\n",
    "    \n",
    "    for grade_letter,bin_count,min_grade in zip(grades.keys(),hist,grades.values()):\n",
    "        print(\"{:2.2f}\".format(min_grade),\n",
    "              grade_letter+\": \"+str(bin_count),\n",
    "              \"{:2.2f}%\".format(100.*float(bin_count/N_total)) )\n",
    "    return grades\n",
    "    "
   ]
  },
  {
   "cell_type": "code",
   "execution_count": 22,
   "metadata": {},
   "outputs": [
    {
     "name": "stdout",
     "output_type": "stream",
     "text": [
      "Min grade: 55\n",
      "N Total (post cut): 12\n",
      "N Total (pre cut): (16,)\n",
      "Mean: 82.66666666666667\n",
      "Std: 14.642024753731599\n"
     ]
    },
    {
     "data": {
      "image/png": "[encoded data removed]",
      "text/plain": [
       "<Figure size 432x288 with 1 Axes>"
      ]
     },
     "metadata": {
      "needs_background": "light"
     },
     "output_type": "display_data"
    },
    {
     "name": "stdout",
     "output_type": "stream",
     "text": [
      "0.00 F: 0 0.00%\n",
      "53.38 D: 5 41.67%\n",
      "68.02 C: 0 0.00%\n",
      "82.67 B: 5 41.67%\n",
      "97.31 A: 2 16.67%\n"
     ]
    },
    {
     "data": {
      "text/plain": [
       "OrderedDict([('F', 0.0),\n",
       "             ('D', 53.38261715920348),\n",
       "             ('C', 68.02464191293507),\n",
       "             ('B', 82.66666666666667),\n",
       "             ('A', 97.30869142039828),\n",
       "             ('A+', 100)])"
      ]
     },
     "execution_count": 22,
     "metadata": {},
     "output_type": "execute_result"
    }
   ],
   "source": [
    "compute_curve(df_0[\"Exam 1 Fixed\"],55)"
   ]
  },
  {
   "cell_type": "markdown",
   "metadata": {},
   "source": [
    "## Grading Strategies\n",
    "\n",
    "Thinking about what we did, we noticed that we have 2 grading strategies:\n",
    "1. \"Standard\": 70, 80, 90 scheme.\n",
    "2. \"Curved\": Using mean and standard deviation.\n",
    "\n",
    "There is a third strategy that I often apply when the grade distribution doesn't look like a normal distribution. When we curve the letter grades mean the following, based on the fact that 68% of normal distribution lies between -1 and 1 $\\sigma$ of the mean.\n",
    "|\n",
    "* B and C: comprise of the 68% of the students withing 1 $\\sigma$ of the mean, with the top 34% subset assigned a B and the bottom 34% assigned a C. Nearly all of the remaining 32% of the students will be within 2 $\\sigma$ of the mean.\n",
    "* A: The approximately 16% that are more than 1 $\\sigma$ above the mean are assigned an A.\n",
    "* D: The approximately 16% that are more are between 1 $\\sigma$ and 2 $\\sigma$ below the mean are assigned a D.\n",
    "\n",
    "All of this assume a normal distribution. If the grade distribution isn't normal, we can still assign grades in a way that we could interpret in the same way as the curved grades by simply assigning the top 16% an A, next 32% B, then assign C to the 32% and D to the the 16% after.\n",
    "\n",
    "\n"
   ]
  },
  {
   "cell_type": "markdown",
   "metadata": {},
   "source": [
    "## Quiz\n",
    "\n",
    "Work out the total Lab grade by:\n",
    "\n",
    "1. Summing the lab grades: extract the lab grade values, sum them, and add the sum as new column to the DataFrame. \n",
    "2. Histogram the lab grades.\n",
    "3. Apply the curve. Does it give a non-punative bell-curve letter grade distribution (i.e. not worse than non-curved standard scheme)?\n",
    "4. Determine good grade boundries for the labs."
   ]
  },
  {
   "cell_type": "code",
   "execution_count": 24,
   "metadata": {},
   "outputs": [],
   "source": [
    "# Work here... add cells as needed."
   ]
  },
  {
   "cell_type": "markdown",
   "metadata": {},
   "source": [
    "# Disecting the Task at Hand\n",
    "\n",
    "We can also note that all the stragegies are defined by the boundries between letter grades. Therefore we can factorize the operation of assigning a letter grade into several steps:\n",
    "* Perform statistical analysis of the grades to obtain basic parameters.\n",
    "    * Minimum cut-off\n",
    "    * Mean / Sigma\n",
    "* Establish grade boundries.\n",
    "    * Potentially apply several strategies.\n",
    "    * Select a strategy appropriate for given distribution of grades.\n",
    "* Use grade boundries to assign grades.\n",
    "* Validate the assigned grades.\n",
    "\n"
   ]
  },
  {
   "cell_type": "markdown",
   "metadata": {},
   "source": [
    "## Organizing Our Code\n",
    "\n",
    "It is possible to perform the steps above without any (or with minimal) generalization or abstraction (ie using functions). We could work out a grade with a series of steps... then copy and paste for the other grades. The benefits would be that without generalization, we could fine tune every grade easily. But it could become tedious and our results would be error prone.\n",
    "\n",
    "Alternatively, we can recognize that each of the steps above can be done with a set of functions that have the same inputs and outputs:\n",
    "\n",
    "* Statistical Analysis Functions: Input list of grades. Output mean, standard deviation, and minium grade.\n",
    "* Grade Boundries Functions: Input stats (and list of grades). Output boundries.\n",
    "* Assign Grades Function: Input boundries and list grades. Output corresponding list of assigned letter grades.\n",
    "* Validate Function: Input assigned letter grades, output percentage of each grade.\n",
    "\n",
    "In addition, we will need to do a weighted sum of the grades to assign a class grade. \n",
    "\n",
    "We also have to note that beyond the procedural steps, we will have to make choices about how we represent the input/output data of each step. For example, previously we represented grade boundries as an `OrderedDict`. \n",
    "\n"
   ]
  },
  {
   "cell_type": "markdown",
   "metadata": {},
   "source": [
    "## Building a System\n",
    "\n",
    "We are starting to recognize that depending on the context, we may choose different levels of sophistication for our code to solve a problem:\n",
    "\n",
    "* Quickly solve a problem once: Cut and paste can be sufficient.\n",
    "* Scale or solve the problem on many data points: Implement functions that perform tasks.\n",
    "* Solve the same problem with different data: Identify tasks and generalize functions with defined input/outputs\n",
    "* Enable others to use your code to solve the same problem.\n",
    "* Build a production system or service that solves the problem.\n",
    "\n"
   ]
  },
  {
   "cell_type": "markdown",
   "metadata": {},
   "source": [
    "## An Object Oriented Approach\n",
    "\n",
    "Object Oriented programming is not required to solve problems. But in many cases, OO can greatly simplify the development process and ability to further add functionality to the code. Even within OO, there are many approaches to solving the same problem, and while some may have advatanges, often it takes several iterations and revisions to approach optimality... and even then, there are stylistic and historical choices.\n",
    "\n",
    "Lets explore one OO approach to building a Grade Book system.\n"
   ]
  },
  {
   "cell_type": "markdown",
   "metadata": {},
   "source": [
    "## Base Classes"
   ]
  },
  {
   "cell_type": "code",
   "execution_count": 13,
   "metadata": {},
   "outputs": [],
   "source": [
    "# Create some virtual classes\n",
    "\n",
    "class base:\n",
    "    __name=\"\"\n",
    "    \n",
    "    def __init__(self,name):\n",
    "        self.__name=name\n",
    "\n",
    "    def name(self):\n",
    "        return self.__name\n",
    "    \n",
    "\n",
    "class data(base):\n",
    "    def __init__(self,name):\n",
    "        base.__init__(self,name)\n",
    "        \n",
    "class alg(base):\n",
    "    def __init__(self,name):\n",
    "        base.__init__(self,name)\n"
   ]
  },
  {
   "cell_type": "code",
   "execution_count": 14,
   "metadata": {},
   "outputs": [
    {
     "data": {
      "text/plain": [
       "'Hello'"
      ]
     },
     "execution_count": 14,
     "metadata": {},
     "output_type": "execute_result"
    }
   ],
   "source": [
    "a=alg(\"Hello\")\n",
    "a.name()"
   ]
  },
  {
   "cell_type": "code",
   "execution_count": 15,
   "metadata": {},
   "outputs": [
    {
     "data": {
      "text/plain": [
       "['__class__',\n",
       " '__delattr__',\n",
       " '__dict__',\n",
       " '__dir__',\n",
       " '__doc__',\n",
       " '__eq__',\n",
       " '__format__',\n",
       " '__ge__',\n",
       " '__getattribute__',\n",
       " '__gt__',\n",
       " '__hash__',\n",
       " '__init__',\n",
       " '__init_subclass__',\n",
       " '__le__',\n",
       " '__lt__',\n",
       " '__module__',\n",
       " '__ne__',\n",
       " '__new__',\n",
       " '__reduce__',\n",
       " '__reduce_ex__',\n",
       " '__repr__',\n",
       " '__setattr__',\n",
       " '__sizeof__',\n",
       " '__str__',\n",
       " '__subclasshook__',\n",
       " '__weakref__',\n",
       " '_base__name',\n",
       " 'name']"
      ]
     },
     "execution_count": 15,
     "metadata": {},
     "output_type": "execute_result"
    }
   ],
   "source": [
    "dir(a)"
   ]
  },
  {
   "cell_type": "markdown",
   "metadata": {},
   "source": [
    "## Grade Representation\n",
    "\n",
    "We note that we have two types of grades: numerical and letter. We have a choice of how to represent grades. Below is one. What might be another way?"
   ]
  },
  {
   "cell_type": "code",
   "execution_count": 18,
   "metadata": {},
   "outputs": [],
   "source": [
    "class grade(data):\n",
    "    __letter_grades=[\"F-\",\"F\",\"F+\",\"D-\",\"D\",\"D+\",\"C-\",\"C\",\"C+\",\"B-\",\"B\",\"B+\",\"A-\",\"A\",\"A+\"]\n",
    "    \n",
    "    def __init__(self,name,numerical=True,value=None):\n",
    "        self.__value=value\n",
    "        self.__numerical=numerical\n",
    "        self.__gradebook_name=str()\n",
    "        \n",
    "        if value:\n",
    "            if isinstance(value,(int,float)):\n",
    "                self.__numerical=True\n",
    "            elif isinstance(value,str):\n",
    "                self.__numerical=False\n",
    "            self.set(value)\n",
    "        else:            \n",
    "            self.__numerical=numerical\n",
    "        self.__gradebook_name=name\n",
    "        data.__init__(self,name+\" Grade Data Object\")        \n",
    "\n",
    "    def set(self,value):\n",
    "        if isinstance(value,(int,float)) and self.__numerical:\n",
    "            self.__value=value\n",
    "        elif isinstance(value,str) and not self.__numerical:\n",
    "            if value in self.__letter_grades:\n",
    "                self.__value=value\n",
    "        else:\n",
    "            print( self.name()+\" Error: Bad Grade.\")\n",
    "            raise Exception\n",
    "    \n",
    "    def value(self):\n",
    "        return self.__value\n",
    "    \n",
    "    def numerical(self):\n",
    "        return self.__numerical\n",
    "    \n",
    "    def gradebook_name(self):\n",
    "        return self.__gradebook_name\n",
    "    \n",
    "    def __str__(self):\n",
    "        return self.__gradebook_name+\": \"+str(self.__value)\n"
   ]
  },
  {
   "cell_type": "markdown",
   "metadata": {},
   "source": [
    "## Student Representation"
   ]
  },
  {
   "cell_type": "code",
   "execution_count": 19,
   "metadata": {},
   "outputs": [],
   "source": [
    "class student(data):\n",
    "    \n",
    "    def __init__(self, first_name, last_name, id_number):\n",
    "        self.__grades=dict()\n",
    "        self.__id_number=id_number\n",
    "        data.__init__(self,first_name+\" \"+last_name+\" Student Data\")\n",
    "\n",
    "    def add_grade(self,a_grade,overwrite=False):\n",
    "        if overwrite or not a_grade.gradebook_name() in self.__grades:\n",
    "            self.__grades[a_grade.gradebook_name()]=a_grade\n",
    "        else:\n",
    "            print (self.name()+\" Error Adding Grade \"+a_grade.name()+\". Grade already exists.\")\n",
    "            raise Exception\n",
    "\n",
    "    def id_number(self):\n",
    "        return __id_number\n",
    "    \n",
    "    def __getitem__(self,key):\n",
    "        return self.__grades[key]\n",
    "    \n",
    "    def print_grades(self):\n",
    "        for grade in self.__grades:\n",
    "            print (self.__grades[grade])"
   ]
  },
  {
   "cell_type": "code",
   "execution_count": 20,
   "metadata": {},
   "outputs": [
    {
     "name": "stdout",
     "output_type": "stream",
     "text": [
      "Exam 1: 95\n",
      "Exam 1 Letter: A\n"
     ]
    }
   ],
   "source": [
    "a_student=student(\"John\",\"Doe\",111)\n",
    "\n",
    "a_student.add_grade(grade(\"Exam 1\",value=95))\n",
    "a_student.add_grade(grade(\"Exam 1 Letter\",value=\"A\"))\n",
    "\n",
    "a_student.print_grades()"
   ]
  },
  {
   "cell_type": "markdown",
   "metadata": {},
   "source": [
    "## Grade Calculator"
   ]
  },
  {
   "cell_type": "code",
   "execution_count": 21,
   "metadata": {},
   "outputs": [],
   "source": [
    "class grade_calculator(alg):    \n",
    "    def __init__(self,name,stats):\n",
    "        self.__stats=stats\n",
    "        alg.__init__(self,name)\n",
    "\n",
    "    def apply(self,a_grade):\n",
    "        raise NotImplementedError\n",
    "        \n",
    "\n",
    "class uncurved_letter_grade_percent(grade_calculator):\n",
    "    __grades_definition=[ (.97,\"A+\"),\n",
    "                          (.93,\"A\"),\n",
    "                          (.9,\"A-\"),\n",
    "                          (.87,\"B+\"),\n",
    "                          (.83,\"B\"),\n",
    "                          (.8,\"B-\"),\n",
    "                          (.77,\"C+\"),\n",
    "                          (.73,\"C\"),\n",
    "                          (.7,\"C-\"),\n",
    "                          (.67,\"C+\"),\n",
    "                          (.63,\"C\"),\n",
    "                          (.6,\"C-\"),\n",
    "                          (.57,\"F+\"),\n",
    "                          (.53,\"F\"),\n",
    "                          (0.,\"F-\")]\n",
    "    __max_grade=100.\n",
    "    __grade_name=str()\n",
    "    \n",
    "    def __init__(self,grade_name,max_grade=100.):\n",
    "        self.__max_grade=max_grade\n",
    "        self.__grade_name=grade_name\n",
    "        grade_calculator.__init__(self,\n",
    "                                  \"Uncurved Percent Based Grade Calculator \"+self.__grade_name+\" Max=\"+str(self.__max_grade),\n",
    "                                 False)\n",
    "        \n",
    "\n",
    "    def apply(self,a_grade):\n",
    "        if not isinstance(a_grade,grade):\n",
    "            print (self.name()+ \" Error: Did not get an proper grade as input.\")\n",
    "            raise Exception\n",
    "        if not a_grade.numerical():\n",
    "            print (self.name()+ \" Error: Did not get a numerical grade as input.\")\n",
    "            raise Exception\n",
    "\n",
    "        percent=a_grade.value()/self.__max_grade\n",
    "        \n",
    "        for i,v in enumerate(self.__grades_definition):\n",
    "            if percent>=v[0]:\n",
    "                break\n",
    "                            \n",
    "        return grade(self.__grade_name,value=self.__grades_definition[i][1])\n",
    "            "
   ]
  },
  {
   "cell_type": "code",
   "execution_count": 22,
   "metadata": {},
   "outputs": [
    {
     "name": "stdout",
     "output_type": "stream",
     "text": [
      "Exam 1 Test Grade: A\n"
     ]
    }
   ],
   "source": [
    "a_grader=uncurved_letter_grade_percent(grade_name=\"Exam 1 Test Grade\")\n",
    "print(a_grader.apply(a_student[\"Exam 1\"]))"
   ]
  },
  {
   "cell_type": "code",
   "execution_count": 24,
   "metadata": {},
   "outputs": [
    {
     "name": "stdout",
     "output_type": "stream",
     "text": [
      "Exam 1 Test Grade: B-\n"
     ]
    }
   ],
   "source": [
    "print(a_grader.apply(grade(\"Test Grade\",value=81.)))"
   ]
  },
  {
   "cell_type": "code",
   "execution_count": 25,
   "metadata": {},
   "outputs": [],
   "source": [
    "class curved_letter_grade(grade_calculator):\n",
    "    __grades_definition=[ (.97,\"A+\"),\n",
    "                          (.93,\"A\"),\n",
    "                          (.9,\"A-\"),\n",
    "                          (.87,\"B+\"),\n",
    "                          (.83,\"B\"),\n",
    "                          (.8,\"B-\"),\n",
    "                          (.77,\"C+\"),\n",
    "                          (.73,\"C\"),\n",
    "                          (.7,\"C-\"),\n",
    "                          (.67,\"C+\"),\n",
    "                          (.63,\"C\"),\n",
    "                          (.6,\"C-\"),\n",
    "                          (.57,\"F+\"),\n",
    "                          (.53,\"F\"),\n",
    "                          (0.,\"F-\")]\n",
    "    __max_grade=100.\n",
    "    __grade_name=str()\n",
    "    \n",
    "    def __init__(self,grade_name,mean,std,max_grade=100.):\n",
    "        self.__max_grade=max_grade\n",
    "        self.__mean=mean\n",
    "        self.__std=std\n",
    "        self.__grade_name=grade_name\n",
    "        grade_calculator.__init__(self,\n",
    "                                  \"Curved Percent Based Grade Calculator \"+self.__grade_name+ \\\n",
    "                                  \" Mean=\"+str(self.__mean)+\\\n",
    "                                  \" STD=\"+str(self.__std)+\\\n",
    "                                  \" Max=\"+str(self.__max_grade),\n",
    "                                   False)\n",
    "        \n",
    "\n",
    "    def apply(self,a_grade):\n",
    "        if not isinstance(a_grade,grade):\n",
    "            print (self.name()+ \" Error: Did not get an proper grade as input.\")\n",
    "            raise Exception\n",
    "        if not a_grade.numerical():\n",
    "            print (self.name()+ \" Error: Did not get a numerical grade as input.\")\n",
    "            raise Exception\n",
    "    \n",
    "        # Rescale the grade\n",
    "        percent=a_grade.value()/self.__max_grade\n",
    "        shift_to_zero=percent-(self.__mean/self.__max_grade)\n",
    "        scale_std=0.1*shift_to_zero/(self.__std/self.__max_grade)\n",
    "        scaled_percent=scale_std+0.8\n",
    "        \n",
    "        for i,v in enumerate(self.__grades_definition):\n",
    "            if scaled_percent>=v[0]:\n",
    "                break\n",
    "                            \n",
    "        return grade(self.__grade_name,value=self.__grades_definition[i][1])\n",
    "            "
   ]
  },
  {
   "cell_type": "code",
   "execution_count": 26,
   "metadata": {},
   "outputs": [
    {
     "name": "stdout",
     "output_type": "stream",
     "text": [
      "Exam 1: 70\n",
      "Exam 1 Letter: A\n"
     ]
    }
   ],
   "source": [
    "a_student=student(\"John\",\"Doe\",111)\n",
    "\n",
    "a_student.print_grades()\n",
    "\n",
    "a_student.add_grade(grade(\"Exam 1\",value=70))\n",
    "a_student.add_grade(grade(\"Exam 1 Letter\",value=\"A\"))\n",
    "\n",
    "a_student.print_grades()"
   ]
  },
  {
   "cell_type": "code",
   "execution_count": 27,
   "metadata": {},
   "outputs": [
    {
     "name": "stdout",
     "output_type": "stream",
     "text": [
      "Exam 1 Test Grade: A+\n"
     ]
    }
   ],
   "source": [
    "a_grader=curved_letter_grade(grade_name=\"Exam 1 Test Grade\",mean=50.,std=10.)\n",
    "print( a_grader.apply(a_student[\"Exam 1\"]))"
   ]
  },
  {
   "cell_type": "code",
   "execution_count": 28,
   "metadata": {},
   "outputs": [
    {
     "name": "stdout",
     "output_type": "stream",
     "text": [
      "Exam 1 Test Grade: A+\n"
     ]
    }
   ],
   "source": [
    "print( a_grader.apply(grade(\"Test Grade\",value=75.)))"
   ]
  },
  {
   "cell_type": "markdown",
   "metadata": {},
   "source": [
    "## Stats Computation"
   ]
  },
  {
   "cell_type": "code",
   "execution_count": null,
   "metadata": {},
   "outputs": [],
   "source": [
    "import numpy as np\n",
    "import math\n",
    "\n",
    "class statistics_calculator(alg):    \n",
    "    def __init__(self,name):\n",
    "        alg.__init__(self,name)\n",
    "\n",
    "    def apply(self,grades):\n",
    "        raise NotImplementedError\n",
    "        \n",
    "class mean_std_calculator(statistics_calculator):\n",
    "    def __init__(self):\n",
    "        statistics_calculator.__init__(self,\"Mean and Standard Deviation Calculator\")\n",
    "        \n",
    "    def apply(self,grades):\n",
    "        return np.mean(grades),math.sqrt(np.var(grades))\n",
    "\n"
   ]
  },
  {
   "cell_type": "markdown",
   "metadata": {},
   "source": [
    "## Grade Summing"
   ]
  },
  {
   "cell_type": "code",
   "execution_count": null,
   "metadata": {},
   "outputs": [],
   "source": [
    "class summary_calculator(alg):    \n",
    "    def __init__(self,name):\n",
    "        alg.__init__(self,name)\n",
    "\n",
    "    def apply(self,a_student):\n",
    "        raise NotImplementedError\n",
    "        \n",
    "class grade_summer(summary_calculator):\n",
    "    def __init__(self,prefix,n):\n",
    "        self.__prefix=prefix\n",
    "        self.__n=n\n",
    "        statistics_calculator.__init__(self,\"Sum Grades\")\n",
    "        \n",
    "    def apply(self,a_student):\n",
    "        labels=[prefix+str(x) for x in range(1,n)]\n",
    "        \n",
    "        grade_sum=0.\n",
    "        for label in labels:\n",
    "            grade_sum+=a_student[label]\n",
    "            \n",
    "        a_student.add_grade(grade(prefix+\"sum\",value=grade_sum))"
   ]
  },
  {
   "cell_type": "markdown",
   "metadata": {},
   "source": [
    "## Gradebook"
   ]
  },
  {
   "cell_type": "code",
   "execution_count": null,
   "metadata": {},
   "outputs": [],
   "source": [
    "class grade_book(data):\n",
    "    \n",
    "    def __init__(self,name):\n",
    "        data.__init__(self,name+\" Course Grade Book\")\n",
    "        self.__students=dict()\n",
    "    \n",
    "    def add_student(self,a_student):\n",
    "        self.__students[a_student.id_number]=a_student\n",
    "        \n",
    "    def assign_grade(self,key,a_grade):\n",
    "        the_student=None\n",
    "        try:\n",
    "            the_student=self.__students[key]\n",
    "        except:\n",
    "            for id in self.__students:\n",
    "                if key == self.__students[id].name():\n",
    "                    the_student=self.__students[id]\n",
    "                    break\n",
    "        if the_student:\n",
    "            the_student.add_grade(a_grade)\n",
    "        else:\n",
    "            print (self.name()+\" Error: Did not find student.\")\n",
    "            \n",
    "    def apply_grader(self,a_grader,grade_name):\n",
    "        for k,a_student in self.__students.items():\n",
    "            a_student.add_grade(a_grader.apply(a_student[grade_name]))\n",
    "            \n",
    "    def apply_stats(self,a_stat_comp,grade_name):\n",
    "        grades=list()\n",
    "        for k,a_student in self.__students.iteritems():\n",
    "            grades.append(a_student[grade_name].value())\n",
    "            \n",
    "        return a_stat_comp.apply(grades)\n",
    "        \n",
    "    "
   ]
  },
  {
   "cell_type": "markdown",
   "metadata": {},
   "source": [
    "## Building a Gradebook"
   ]
  },
  {
   "cell_type": "code",
   "execution_count": null,
   "metadata": {},
   "outputs": [],
   "source": [
    "df_0.keys()"
   ]
  },
  {
   "cell_type": "code",
   "execution_count": null,
   "metadata": {},
   "outputs": [],
   "source": [
    "for d in df_0.iterrows():\n",
    "    print(type(d))"
   ]
  },
  {
   "cell_type": "code",
   "execution_count": null,
   "metadata": {},
   "outputs": [],
   "source": [
    "df_0[\"Lab 1\"]"
   ]
  },
  {
   "cell_type": "code",
   "execution_count": null,
   "metadata": {},
   "outputs": [],
   "source": [
    "a_grade_book=grade_book(\"Data 1401\")\n",
    "\n",
    "for student_i in range(df_0.shape[0]):\n",
    "    a_student_0=student(\"Student\",str(student_i),student_i)\n",
    "\n",
    "    for k in df_0.keys():\n",
    "        a_student_0.add_grade(grade(k,value=df_0[k][student_i]))\n",
    "\n",
    "    a_grade_book.add_student(a_student_0)\n",
    "        "
   ]
  },
  {
   "cell_type": "code",
   "execution_count": null,
   "metadata": {},
   "outputs": [],
   "source": [
    "a_grade_book.apply_stats(mean_std_calculator(),\"l2_3\")"
   ]
  },
  {
   "cell_type": "code",
   "execution_count": null,
   "metadata": {},
   "outputs": [],
   "source": []
  }
 ],
 "metadata": {
  "kernelspec": {
   "display_name": "Python 3",
   "language": "python",
   "name": "python3"
  },
  "language_info": {
   "codemirror_mode": {
    "name": "ipython",
    "version": 3
   },
   "file_extension": ".py",
   "mimetype": "text/x-python",
   "name": "python",
   "nbconvert_exporter": "python",
   "pygments_lexer": "ipython3",
   "version": "3.8.0"
  }
 },
 "nbformat": 4,
 "nbformat_minor": 2
}
